{
 "cells": [
  {
   "cell_type": "code",
   "execution_count": 1,
   "metadata": {},
   "outputs": [],
   "source": [
    "import numpy as np\n",
    "import pandas as pd\n",
    "import matplotlib.pyplot as plt"
   ]
  },
  {
   "cell_type": "markdown",
   "metadata": {},
   "source": [
    "## Macros"
   ]
  },
  {
   "cell_type": "code",
   "execution_count": 2,
   "metadata": {},
   "outputs": [],
   "source": [
    "Cp = 1 ## sell price of each item\n",
    "Cv = 0.4 ## variable cost of each item\n",
    "Cs = -0.1 ## salvage value of each item, negative implies that it is actually a cost\n",
    "Ch = 0.1 ## holding cost of each item\n",
    "Q = 90 ## inventory level\n",
    "L = 7 ## lifetime of each item\n",
    "Beta = 0.8 ## discount factor for value function\n",
    "Lam = 50 ## lambda for demand's poisson distribution"
   ]
  },
  {
   "cell_type": "code",
   "execution_count": 3,
   "metadata": {},
   "outputs": [],
   "source": [
    "def plus(x,y):\n",
    "    if x-y >= 0:\n",
    "        return x-y\n",
    "    else:\n",
    "        return 0"
   ]
  },
  {
   "cell_type": "markdown",
   "metadata": {},
   "source": [
    "## Genereate DTMC\n",
    "In this step, first we need to generate a DTMC.\n",
    "\n",
    "\n",
    "At each period: $X_t=(x_{t,1},x_{t,2},...x_{t,L-1})$\n",
    "\n",
    "\n",
    "Need to generate $T$ periods, where $T = 10^3K, K=20,200,2000$\n",
    "\n",
    "\n",
    "In the end, a array \n",
    "$$\n",
    "    \\left[\n",
    "\t\\begin{array}{}\n",
    "    x_{1,1} & x_{1,2} & x_{1,3} & \\cdots & x_{1,L-1}\\\\\n",
    "    x_{2,1} & x_{2,2} & x_{2,3} & \\cdots & x_{2,L-1}\\\\\n",
    "    \\vdots & \\vdots & \\vdots & \\vdots & \\vdots\\\\    \n",
    "    x_{T,1} & x_{T,2} & x_{T,3} & \\cdots & x_{T,L-1}\\\\\n",
    "\t\\end{array}\n",
    "\t\\right]\n",
    "$$\n",
    "\n",
    "should be gerenated, and $x_{i,j}$ means the number of items in time i with j life-period remaining"
   ]
  },
  {
   "cell_type": "code",
   "execution_count": 4,
   "metadata": {},
   "outputs": [],
   "source": [
    "def meet_demand(x_last,demand):\n",
    "    '''\n",
    "    use current inventory to meet the demand\n",
    "    input:\n",
    "    x_last is the inventory as last period, which is a numpy array with shape (L-1)\n",
    "    d is the demand of this period, which is a int\n",
    "    output:\n",
    "    x_new is the invertory after meet the demand, which is a numpy array with shape (L-1)\n",
    "    profit is the profit when meet the demand, which is a int\n",
    "    '''\n",
    "    \n",
    "    unmet = demand ## left demand still not met by old items\n",
    "    oldest = 1 ## the remaining lifetime of items to be used to satisfy the demand, which should be the oldest\n",
    "    profit = 0 ## profit made during this process\n",
    "    \n",
    "    while (unmet > 0):\n",
    "        ## if all available items is used up\n",
    "        if oldest > x_last.shape[0]:\n",
    "            break\n",
    "        \n",
    "        oldest_items = x_last[oldest-1] ## index should be lifetime-1\n",
    "        \n",
    "        ## if unmet demand is satisfied by the current oldest items\n",
    "        if (oldest_items > unmet):\n",
    "            profit += Cp*unmet ## make profit\n",
    "            oldest_items -= unmet ## oldest_items get sold\n",
    "            unmet = 0 ## no demand unmet by now\n",
    "            x_last[oldest-1] = oldest_items ## update the vale of oldest items\n",
    "        ## if not satisfied\n",
    "        else:\n",
    "            profit += Cp*oldest_items ## make profit\n",
    "            unmet -= oldest_items ## update the unmet demand\n",
    "            oldest_items = 0 ## all oldest_items get sold\n",
    "            x_last[oldest-1] = 0 ## update the vale of oldest items\n",
    "            oldest += 1 ## use the next current oldest to satisfy\n",
    "    \n",
    "    return x_last, profit"
   ]
  },
  {
   "cell_type": "code",
   "execution_count": 5,
   "metadata": {},
   "outputs": [],
   "source": [
    "def replenish(x_end):\n",
    "    '''\n",
    "    replenish items to reach the invertory level Q\n",
    "    input: \n",
    "    x_end is the inventory at the end of the last period (after meeting the demand), which is a numpy array with shape (L-1)\n",
    "    output:\n",
    "    x_begin is the inventory at the beginning of next period (order from last period arrives), which is a numpy array with shape (L-1)\n",
    "    profit is the profit made during this process, which is a int\n",
    "    '''\n",
    "    profit = 0\n",
    "    \n",
    "    ## order new items\n",
    "    order = Q-x_end[-1]\n",
    "#     order = Q-np.sum(x_end[1:])\n",
    "    profit -= Cv*order\n",
    "    ## discard items with 1 lifetime\n",
    "    x_new = x_end[1:]\n",
    "    profit += Cs*x_end[0]\n",
    "    \n",
    "    x_new = np.append(x_new, order)\n",
    "    return x_new, profit"
   ]
  },
  {
   "cell_type": "code",
   "execution_count": 16,
   "metadata": {
    "scrolled": true
   },
   "outputs": [],
   "source": [
    "def generate_DTMC(T=20000):\n",
    "    '''\n",
    "    generate a DTMC of 1000*K periods\n",
    "    input:\n",
    "    T, how many periods in this DTMC\n",
    "    output:\n",
    "    DTMC, which is a numpy array with shape (1000*K, L-1)\n",
    "    '''\n",
    "    DTMC = np.zeros((1,L-1))\n",
    "    for period in range(T):\n",
    "        x_last = DTMC[period]\n",
    "        demand = np.random.poisson(lam=Lam)\n",
    "#         print(\"demand is: \",demand)\n",
    "        x_new, _ = meet_demand(x_last,demand)\n",
    "        x_new, _  = replenish(x_new)\n",
    "        DTMC = np.concatenate([DTMC, x_new.reshape((1,L-1))], axis=0)\n",
    "    \n",
    "    return DTMC"
   ]
  },
  {
   "cell_type": "code",
   "execution_count": 17,
   "metadata": {},
   "outputs": [],
   "source": [
    "DTMC = generate_DTMC()"
   ]
  },
  {
   "cell_type": "code",
   "execution_count": 18,
   "metadata": {},
   "outputs": [
    {
     "data": {
      "text/plain": [
       "array([[ 0.,  0.,  0.,  0.,  0.,  0.],\n",
       "       [ 0.,  0.,  0.,  0.,  0., 32.],\n",
       "       [ 0.,  0.,  0.,  0.,  0., 34.],\n",
       "       ...,\n",
       "       [ 0.,  0.,  0.,  0.,  0., 45.],\n",
       "       [ 0.,  0.,  0.,  0.,  0., 26.],\n",
       "       [ 0.,  0.,  0.,  0., 26., 64.]])"
      ]
     },
     "execution_count": 18,
     "metadata": {},
     "output_type": "execute_result"
    }
   ],
   "source": [
    "DTMC"
   ]
  },
  {
   "cell_type": "code",
   "execution_count": 35,
   "metadata": {},
   "outputs": [
    {
     "data": {
      "text/plain": [
       "(20001, 6)"
      ]
     },
     "execution_count": 35,
     "metadata": {},
     "output_type": "execute_result"
    }
   ],
   "source": [
    "DTMC.shape"
   ]
  },
  {
   "cell_type": "markdown",
   "metadata": {},
   "source": [
    "## Sample DTMC\n",
    "$\\bar x$ is the sample from DTMC where\n",
    "$$\\bar x = \\{\\bar x_1, \\bar x_2, \\bar x_3, ...\\bar x_k \\}, \\bar x_i = x_{1000*i}$$\n",
    "\n",
    "\n",
    "The result is a matrix:\n",
    "$$\n",
    "    \\left[\n",
    "\t\\begin{array}{}\n",
    "    x_{1000,1} & x_{1000,2} & x_{1000,3} & \\cdots & x_{1000,L-1}\\\\\n",
    "    x_{2000,1} & x_{2000,2} & x_{2000,3} & \\cdots & x_{2000,L-1}\\\\\n",
    "    \\vdots & \\vdots & \\vdots & \\vdots & \\vdots\\\\    \n",
    "    x_{1000K,1} & x_{1000K,2} & x_{1000K,3} & \\cdots & x_{1000K,L-1}\\\\\n",
    "\t\\end{array}\n",
    "\t\\right]\n",
    "$$"
   ]
  },
  {
   "cell_type": "code",
   "execution_count": 31,
   "metadata": {},
   "outputs": [],
   "source": [
    "def sample_DTMC(DTMC, K):\n",
    "    x_sample = DTMC[0]\n",
    "    x_sample = x_sample.reshape((1,L-1))\n",
    "    for i in range(1000):\n",
    "        x_next = DTMC[i*K].reshape(1,L-1)\n",
    "        x_sample = np.concatenate([x_sample, x_next], axis=0)\n",
    "    return x_sample[1:]"
   ]
  },
  {
   "cell_type": "code",
   "execution_count": 32,
   "metadata": {},
   "outputs": [],
   "source": [
    "sample = sample_DTMC(DTMC, 20)"
   ]
  },
  {
   "cell_type": "code",
   "execution_count": 34,
   "metadata": {},
   "outputs": [
    {
     "data": {
      "text/plain": [
       "(1000, 6)"
      ]
     },
     "execution_count": 34,
     "metadata": {},
     "output_type": "execute_result"
    }
   ],
   "source": [
    "sample.shape"
   ]
  },
  {
   "cell_type": "markdown",
   "metadata": {},
   "source": [
    "## Monte Carlo\n",
    "To implement Monte Carlo method, first need to calcute a episode:\n",
    "$$episode(i)=\\sum_{n=0}^L \\beta^n g(X_n)$$\n",
    "\n",
    "\n",
    "Then average N episodes: \n",
    "$$\\hat v(x) = \\frac{1}{N} \\sum_{i=1}^N episode(i)$$"
   ]
  },
  {
   "cell_type": "code",
   "execution_count": 38,
   "metadata": {},
   "outputs": [
    {
     "name": "stdout",
     "output_type": "stream",
     "text": [
      "warning: CRLF will be replaced by LF in STA4001_main.py.\r\n",
      "The file will have its original line endings in your working directory\r\n"
     ]
    }
   ],
   "source": [
    "!git add ."
   ]
  },
  {
   "cell_type": "code",
   "execution_count": null,
   "metadata": {},
   "outputs": [],
   "source": []
  }
 ],
 "metadata": {
  "kernelspec": {
   "display_name": "Python 3",
   "language": "python",
   "name": "python3"
  },
  "language_info": {
   "codemirror_mode": {
    "name": "ipython",
    "version": 3
   },
   "file_extension": ".py",
   "mimetype": "text/x-python",
   "name": "python",
   "nbconvert_exporter": "python",
   "pygments_lexer": "ipython3",
   "version": "3.7.4"
  }
 },
 "nbformat": 4,
 "nbformat_minor": 2
}
